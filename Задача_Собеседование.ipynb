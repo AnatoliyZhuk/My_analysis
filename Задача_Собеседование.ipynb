{
  "nbformat": 4,
  "nbformat_minor": 0,
  "metadata": {
    "colab": {
      "name": "Задача - Собеседование.ipynb",
      "provenance": [],
      "collapsed_sections": [],
      "authorship_tag": "ABX9TyNH5hDFwwhPv5XNzesZXQLQ",
      "include_colab_link": true
    },
    "kernelspec": {
      "name": "python3",
      "display_name": "Python 3"
    }
  },
  "cells": [
    {
      "cell_type": "markdown",
      "metadata": {
        "id": "view-in-github",
        "colab_type": "text"
      },
      "source": [
        "<a href=\"https://colab.research.google.com/github/AnatoliyZhuk/My_analysis/blob/We_are_here/%D0%97%D0%B0%D0%B4%D0%B0%D1%87%D0%B0_%D0%A1%D0%BE%D0%B1%D0%B5%D1%81%D0%B5%D0%B4%D0%BE%D0%B2%D0%B0%D0%BD%D0%B8%D0%B5.ipynb\" target=\"_parent\"><img src=\"https://colab.research.google.com/assets/colab-badge.svg\" alt=\"Open In Colab\"/></a>"
      ]
    },
    {
      "cell_type": "markdown",
      "metadata": {
        "id": "Ga3CYZE7uIho"
      },
      "source": [
        "**Постановка задачи** <br/>\n",
        "Гномы добывают золото, периодически сообщая о своей награде. При добыче полезных ископаемых использовались инструменты двух поколений, некоторые гномы были оснащены инструментами 1-го поколения, другие - 2-го поколения. После внедрения инструментов нового поколения было замечено, что производительность не соответствует ожиданиям. Нужно подтвердить или опровергнуть опасения генерального директора, подкрепив свои выводы холодными достоверными данными."
      ]
    },
    {
      "cell_type": "markdown",
      "metadata": {
        "id": "dePNb4wZu0Fe"
      },
      "source": [
        "Импортирую необходимые для работы библиотеки."
      ]
    },
    {
      "cell_type": "code",
      "metadata": {
        "id": "Z0pBDmVfuqdA"
      },
      "source": [
        "import pandas as pd\n",
        "import numpy as np\n",
        "from google.colab import files"
      ],
      "execution_count": 5,
      "outputs": []
    },
    {
      "cell_type": "markdown",
      "metadata": {
        "id": "Dy5DxXcMvJct"
      },
      "source": [
        "Импортирую предложенный для рассмотрения dataset **gold_mining_data.csv**<br/> \n",
        "Предварительно загружаю файл в сессионное хранилище Google Colab"
      ]
    },
    {
      "cell_type": "code",
      "metadata": {
        "id": "9YmGzYp5u-y_",
        "outputId": "ff88dd25-3ff0-4d23-9cff-412dc8dbeb53",
        "colab": {
          "base_uri": "https://localhost:8080/",
          "height": 204
        }
      },
      "source": [
        "data = pd.read_csv('gold_mining_data.csv')\n",
        "data.head()"
      ],
      "execution_count": 6,
      "outputs": [
        {
          "output_type": "execute_result",
          "data": {
            "text/html": [
              "<div>\n",
              "<style scoped>\n",
              "    .dataframe tbody tr th:only-of-type {\n",
              "        vertical-align: middle;\n",
              "    }\n",
              "\n",
              "    .dataframe tbody tr th {\n",
              "        vertical-align: top;\n",
              "    }\n",
              "\n",
              "    .dataframe thead th {\n",
              "        text-align: right;\n",
              "    }\n",
              "</style>\n",
              "<table border=\"1\" class=\"dataframe\">\n",
              "  <thead>\n",
              "    <tr style=\"text-align: right;\">\n",
              "      <th></th>\n",
              "      <th>dwarf_id</th>\n",
              "      <th>hired_date</th>\n",
              "      <th>reported_date</th>\n",
              "      <th>gold_mined</th>\n",
              "      <th>hammer_date</th>\n",
              "    </tr>\n",
              "  </thead>\n",
              "  <tbody>\n",
              "    <tr>\n",
              "      <th>0</th>\n",
              "      <td>1</td>\n",
              "      <td>2014-01-01</td>\n",
              "      <td>2014-01-31</td>\n",
              "      <td>656</td>\n",
              "      <td>2014-01-01</td>\n",
              "    </tr>\n",
              "    <tr>\n",
              "      <th>1</th>\n",
              "      <td>1</td>\n",
              "      <td>2014-01-01</td>\n",
              "      <td>2014-02-28</td>\n",
              "      <td>565</td>\n",
              "      <td>2014-01-01</td>\n",
              "    </tr>\n",
              "    <tr>\n",
              "      <th>2</th>\n",
              "      <td>1</td>\n",
              "      <td>2014-01-01</td>\n",
              "      <td>2014-03-31</td>\n",
              "      <td>516</td>\n",
              "      <td>2014-01-01</td>\n",
              "    </tr>\n",
              "    <tr>\n",
              "      <th>3</th>\n",
              "      <td>1</td>\n",
              "      <td>2014-01-01</td>\n",
              "      <td>2014-04-30</td>\n",
              "      <td>568</td>\n",
              "      <td>2014-01-01</td>\n",
              "    </tr>\n",
              "    <tr>\n",
              "      <th>4</th>\n",
              "      <td>1</td>\n",
              "      <td>2014-01-01</td>\n",
              "      <td>2014-05-31</td>\n",
              "      <td>556</td>\n",
              "      <td>2014-01-01</td>\n",
              "    </tr>\n",
              "  </tbody>\n",
              "</table>\n",
              "</div>"
            ],
            "text/plain": [
              "   dwarf_id  hired_date reported_date  gold_mined hammer_date\n",
              "0         1  2014-01-01    2014-01-31         656  2014-01-01\n",
              "1         1  2014-01-01    2014-02-28         565  2014-01-01\n",
              "2         1  2014-01-01    2014-03-31         516  2014-01-01\n",
              "3         1  2014-01-01    2014-04-30         568  2014-01-01\n",
              "4         1  2014-01-01    2014-05-31         556  2014-01-01"
            ]
          },
          "metadata": {
            "tags": []
          },
          "execution_count": 6
        }
      ]
    },
    {
      "cell_type": "code",
      "metadata": {
        "id": "dXgnS9tyxPNd",
        "outputId": "d3af9055-52b7-4103-eac9-f190e0e846d6",
        "colab": {
          "base_uri": "https://localhost:8080/",
          "height": 221
        }
      },
      "source": [
        "print('Уникальные значения в колонке hired_date: ', data['hired_date'].unique(), '\\n')\n",
        "print('Уникальные значения в колонке hammer_date: ', data['hammer_date'].unique(), '\\n')\n",
        "print('Уникальные значения в колонке reported_date: ', data['reported_date'].unique(), '\\n')"
      ],
      "execution_count": 7,
      "outputs": [
        {
          "output_type": "stream",
          "text": [
            "Уникальные значения в колонке hired_date:  ['2014-01-01' '2014-02-01' '2014-03-01' '2014-04-01' '2014-05-01'\n",
            " '2014-06-01' '2014-07-01' '2014-08-01' '2014-09-01' '2014-10-01'\n",
            " '2014-11-01' '2014-12-01' '2015-01-01' '2015-02-01' '2015-03-01'\n",
            " '2015-04-01' '2015-05-01' '2015-06-01' '2015-07-01' '2015-08-01'] \n",
            "\n",
            "Уникальные значения в колонке hammer_date:  ['2014-01-01' '2015-01-01'] \n",
            "\n",
            "Уникальные значения в колонке reported_date:  ['2014-01-31' '2014-02-28' '2014-03-31' '2014-04-30' '2014-05-31'\n",
            " '2014-06-30' '2014-07-31' '2014-08-31' '2014-09-30' '2014-10-31'\n",
            " '2014-11-30' '2014-12-31' '2015-01-31' '2015-02-28' '2015-03-31'\n",
            " '2015-04-30' '2015-05-31' '2015-06-30' '2015-07-31' '2015-08-31'] \n",
            "\n"
          ],
          "name": "stdout"
        }
      ]
    },
    {
      "cell_type": "markdown",
      "metadata": {
        "id": "pXu_cxi_wi2S"
      },
      "source": [
        "Просмотрев данные, делаю следующие умозаключения: <br/>\n",
        "**dwarf_id** - уникальный идентификатор гнома-работника. <br/>\n",
        "**hired_date** - дата приема на работу гнома-работника. Гном-работник может быть нанят на работу в начале любого месяца. <br/>\n",
        "Предполагается, что с 2015 года все работники перешли на новое поколение инструментов (то есть нужно учитывать, что например первый гном-работник, работая и в 2014 году и в 2015 году, успел использовать инструменты обоих поколений. <br/>\n",
        "**reported_date** - в конце каждого месяца гном работник сдает отчет по проделанной работе (сколько золота ему удалось добыть за этот месяц). <br/>\n",
        "**gold_mined** - количество добытого золота. <br/>\n"
      ]
    },
    {
      "cell_type": "markdown",
      "metadata": {
        "id": "9Vw7S7yD44DY"
      },
      "source": [
        "Последний отчет за 2014 год происходит **'2014-12-31'** после чего гном-работник переходит на инструменты нового поколения.<br/>\n",
        "Обозначим **table_one** наблюдения, где применялись инструмены нового поколения. <br/>\n",
        "Обозначим **table_two** наблюдения, где применялись инструмены старого поколения. <br/>"
      ]
    },
    {
      "cell_type": "code",
      "metadata": {
        "id": "Q9AWTXLjv7NO",
        "outputId": "59c5522a-2787-4eb9-e3ce-092137a7a77f",
        "colab": {
          "base_uri": "https://localhost:8080/",
          "height": 204
        }
      },
      "source": [
        "table_one = data[data['reported_date'] > '2014-12-31']\n",
        "table_one.head()"
      ],
      "execution_count": 8,
      "outputs": [
        {
          "output_type": "execute_result",
          "data": {
            "text/html": [
              "<div>\n",
              "<style scoped>\n",
              "    .dataframe tbody tr th:only-of-type {\n",
              "        vertical-align: middle;\n",
              "    }\n",
              "\n",
              "    .dataframe tbody tr th {\n",
              "        vertical-align: top;\n",
              "    }\n",
              "\n",
              "    .dataframe thead th {\n",
              "        text-align: right;\n",
              "    }\n",
              "</style>\n",
              "<table border=\"1\" class=\"dataframe\">\n",
              "  <thead>\n",
              "    <tr style=\"text-align: right;\">\n",
              "      <th></th>\n",
              "      <th>dwarf_id</th>\n",
              "      <th>hired_date</th>\n",
              "      <th>reported_date</th>\n",
              "      <th>gold_mined</th>\n",
              "      <th>hammer_date</th>\n",
              "    </tr>\n",
              "  </thead>\n",
              "  <tbody>\n",
              "    <tr>\n",
              "      <th>12</th>\n",
              "      <td>1</td>\n",
              "      <td>2014-01-01</td>\n",
              "      <td>2015-01-31</td>\n",
              "      <td>489</td>\n",
              "      <td>2014-01-01</td>\n",
              "    </tr>\n",
              "    <tr>\n",
              "      <th>13</th>\n",
              "      <td>1</td>\n",
              "      <td>2014-01-01</td>\n",
              "      <td>2015-02-28</td>\n",
              "      <td>428</td>\n",
              "      <td>2014-01-01</td>\n",
              "    </tr>\n",
              "    <tr>\n",
              "      <th>14</th>\n",
              "      <td>1</td>\n",
              "      <td>2014-01-01</td>\n",
              "      <td>2015-03-31</td>\n",
              "      <td>479</td>\n",
              "      <td>2014-01-01</td>\n",
              "    </tr>\n",
              "    <tr>\n",
              "      <th>15</th>\n",
              "      <td>1</td>\n",
              "      <td>2014-01-01</td>\n",
              "      <td>2015-04-30</td>\n",
              "      <td>445</td>\n",
              "      <td>2014-01-01</td>\n",
              "    </tr>\n",
              "    <tr>\n",
              "      <th>16</th>\n",
              "      <td>1</td>\n",
              "      <td>2014-01-01</td>\n",
              "      <td>2015-05-31</td>\n",
              "      <td>446</td>\n",
              "      <td>2014-01-01</td>\n",
              "    </tr>\n",
              "  </tbody>\n",
              "</table>\n",
              "</div>"
            ],
            "text/plain": [
              "    dwarf_id  hired_date reported_date  gold_mined hammer_date\n",
              "12         1  2014-01-01    2015-01-31         489  2014-01-01\n",
              "13         1  2014-01-01    2015-02-28         428  2014-01-01\n",
              "14         1  2014-01-01    2015-03-31         479  2014-01-01\n",
              "15         1  2014-01-01    2015-04-30         445  2014-01-01\n",
              "16         1  2014-01-01    2015-05-31         446  2014-01-01"
            ]
          },
          "metadata": {
            "tags": []
          },
          "execution_count": 8
        }
      ]
    },
    {
      "cell_type": "markdown",
      "metadata": {
        "id": "NLIk3wSOehDH"
      },
      "source": [
        "Создадим сводную таблицу для показателей гномов-работников, которые докладывали о добыче золота после начала 2015 года. Найдем среднее значение добытого золота в течение одного месяца после 2015 года.<br/>\n",
        "Получим 2 колонки: <br/>\n",
        "1. Будут учтены те гномы-работники, которые работали еще в 2014 году, но с приходом 2015 года перешли на инструменты нового поколения.<br/>\n",
        "2. Будут учтены те гномы-работники, которые начали свою работу в 2015 году."
      ]
    },
    {
      "cell_type": "code",
      "metadata": {
        "id": "p8m07bz-dmS-",
        "outputId": "4b16bae5-9781-45b6-b696-6512ae2ef391",
        "colab": {
          "base_uri": "https://localhost:8080/",
          "height": 235
        }
      },
      "source": [
        "table_one_pivot = pd.pivot_table(table_one, values='gold_mined', index=['dwarf_id'],\n",
        "                    columns=['hammer_date'], aggfunc=np.mean)\n",
        "table_one_pivot.head()"
      ],
      "execution_count": 9,
      "outputs": [
        {
          "output_type": "execute_result",
          "data": {
            "text/html": [
              "<div>\n",
              "<style scoped>\n",
              "    .dataframe tbody tr th:only-of-type {\n",
              "        vertical-align: middle;\n",
              "    }\n",
              "\n",
              "    .dataframe tbody tr th {\n",
              "        vertical-align: top;\n",
              "    }\n",
              "\n",
              "    .dataframe thead th {\n",
              "        text-align: right;\n",
              "    }\n",
              "</style>\n",
              "<table border=\"1\" class=\"dataframe\">\n",
              "  <thead>\n",
              "    <tr style=\"text-align: right;\">\n",
              "      <th>hammer_date</th>\n",
              "      <th>2014-01-01</th>\n",
              "      <th>2015-01-01</th>\n",
              "    </tr>\n",
              "    <tr>\n",
              "      <th>dwarf_id</th>\n",
              "      <th></th>\n",
              "      <th></th>\n",
              "    </tr>\n",
              "  </thead>\n",
              "  <tbody>\n",
              "    <tr>\n",
              "      <th>1</th>\n",
              "      <td>451.000</td>\n",
              "      <td>NaN</td>\n",
              "    </tr>\n",
              "    <tr>\n",
              "      <th>2</th>\n",
              "      <td>447.125</td>\n",
              "      <td>NaN</td>\n",
              "    </tr>\n",
              "    <tr>\n",
              "      <th>3</th>\n",
              "      <td>434.625</td>\n",
              "      <td>NaN</td>\n",
              "    </tr>\n",
              "    <tr>\n",
              "      <th>4</th>\n",
              "      <td>440.375</td>\n",
              "      <td>NaN</td>\n",
              "    </tr>\n",
              "    <tr>\n",
              "      <th>5</th>\n",
              "      <td>438.375</td>\n",
              "      <td>NaN</td>\n",
              "    </tr>\n",
              "  </tbody>\n",
              "</table>\n",
              "</div>"
            ],
            "text/plain": [
              "hammer_date  2014-01-01  2015-01-01\n",
              "dwarf_id                           \n",
              "1               451.000         NaN\n",
              "2               447.125         NaN\n",
              "3               434.625         NaN\n",
              "4               440.375         NaN\n",
              "5               438.375         NaN"
            ]
          },
          "metadata": {
            "tags": []
          },
          "execution_count": 9
        }
      ]
    },
    {
      "cell_type": "markdown",
      "metadata": {
        "id": "R0JRmfzmftMB"
      },
      "source": [
        "Просуммировав значения 2 столбцов, отразим эту информацию в столбце **new**, после чего расчитаем среднее значение добытого золота за один месяц при использовании инструментов нового типа.<br/>\n",
        "Перевожу значения в целочисленный тип, так как в Power BI возникает ошибка и данные считываются в текстовом формате."
      ]
    },
    {
      "cell_type": "code",
      "metadata": {
        "id": "7UQNSI8_dw-h",
        "outputId": "67755ad6-4ce4-497a-d836-ff9ddcadc3c4",
        "colab": {
          "base_uri": "https://localhost:8080/",
          "height": 235
        }
      },
      "source": [
        "table_one_pivot['new'] = table_one_pivot[['2014-01-01','2015-01-01']].sum(axis=1)\n",
        "table_one_pivot['new'] = table_one_pivot['new'].astype(int)\n",
        "table_one_pivot = table_one_pivot.drop(['2014-01-01','2015-01-01'], axis=1)\n",
        "table_one_pivot.head()\n"
      ],
      "execution_count": 10,
      "outputs": [
        {
          "output_type": "execute_result",
          "data": {
            "text/html": [
              "<div>\n",
              "<style scoped>\n",
              "    .dataframe tbody tr th:only-of-type {\n",
              "        vertical-align: middle;\n",
              "    }\n",
              "\n",
              "    .dataframe tbody tr th {\n",
              "        vertical-align: top;\n",
              "    }\n",
              "\n",
              "    .dataframe thead th {\n",
              "        text-align: right;\n",
              "    }\n",
              "</style>\n",
              "<table border=\"1\" class=\"dataframe\">\n",
              "  <thead>\n",
              "    <tr style=\"text-align: right;\">\n",
              "      <th>hammer_date</th>\n",
              "      <th>new</th>\n",
              "    </tr>\n",
              "    <tr>\n",
              "      <th>dwarf_id</th>\n",
              "      <th></th>\n",
              "    </tr>\n",
              "  </thead>\n",
              "  <tbody>\n",
              "    <tr>\n",
              "      <th>1</th>\n",
              "      <td>451</td>\n",
              "    </tr>\n",
              "    <tr>\n",
              "      <th>2</th>\n",
              "      <td>447</td>\n",
              "    </tr>\n",
              "    <tr>\n",
              "      <th>3</th>\n",
              "      <td>434</td>\n",
              "    </tr>\n",
              "    <tr>\n",
              "      <th>4</th>\n",
              "      <td>440</td>\n",
              "    </tr>\n",
              "    <tr>\n",
              "      <th>5</th>\n",
              "      <td>438</td>\n",
              "    </tr>\n",
              "  </tbody>\n",
              "</table>\n",
              "</div>"
            ],
            "text/plain": [
              "hammer_date  new\n",
              "dwarf_id        \n",
              "1            451\n",
              "2            447\n",
              "3            434\n",
              "4            440\n",
              "5            438"
            ]
          },
          "metadata": {
            "tags": []
          },
          "execution_count": 10
        }
      ]
    },
    {
      "cell_type": "code",
      "metadata": {
        "id": "kK2aKOEnjFo2",
        "outputId": "9941cb9a-ee70-458d-b0c1-f82e3d47f5ca",
        "colab": {
          "base_uri": "https://localhost:8080/",
          "height": 68
        }
      },
      "source": [
        "table_one_pivot.mean()"
      ],
      "execution_count": 11,
      "outputs": [
        {
          "output_type": "execute_result",
          "data": {
            "text/plain": [
              "hammer_date\n",
              "new    600.222264\n",
              "dtype: float64"
            ]
          },
          "metadata": {
            "tags": []
          },
          "execution_count": 11
        }
      ]
    },
    {
      "cell_type": "markdown",
      "metadata": {
        "id": "bQ2kygXjgVQc"
      },
      "source": [
        "Создадим сводную таблицу для показателей гномов-работников, которые докладывали о добыче золота до начала 2015 года."
      ]
    },
    {
      "cell_type": "code",
      "metadata": {
        "id": "3OeCG7YV5MIz",
        "outputId": "753906ba-755f-45e1-c5b2-3b903b97f13b",
        "colab": {
          "base_uri": "https://localhost:8080/",
          "height": 204
        }
      },
      "source": [
        "table_two = data[data['reported_date'] < '2015-01-31']\n",
        "table_two.head()"
      ],
      "execution_count": 12,
      "outputs": [
        {
          "output_type": "execute_result",
          "data": {
            "text/html": [
              "<div>\n",
              "<style scoped>\n",
              "    .dataframe tbody tr th:only-of-type {\n",
              "        vertical-align: middle;\n",
              "    }\n",
              "\n",
              "    .dataframe tbody tr th {\n",
              "        vertical-align: top;\n",
              "    }\n",
              "\n",
              "    .dataframe thead th {\n",
              "        text-align: right;\n",
              "    }\n",
              "</style>\n",
              "<table border=\"1\" class=\"dataframe\">\n",
              "  <thead>\n",
              "    <tr style=\"text-align: right;\">\n",
              "      <th></th>\n",
              "      <th>dwarf_id</th>\n",
              "      <th>hired_date</th>\n",
              "      <th>reported_date</th>\n",
              "      <th>gold_mined</th>\n",
              "      <th>hammer_date</th>\n",
              "    </tr>\n",
              "  </thead>\n",
              "  <tbody>\n",
              "    <tr>\n",
              "      <th>0</th>\n",
              "      <td>1</td>\n",
              "      <td>2014-01-01</td>\n",
              "      <td>2014-01-31</td>\n",
              "      <td>656</td>\n",
              "      <td>2014-01-01</td>\n",
              "    </tr>\n",
              "    <tr>\n",
              "      <th>1</th>\n",
              "      <td>1</td>\n",
              "      <td>2014-01-01</td>\n",
              "      <td>2014-02-28</td>\n",
              "      <td>565</td>\n",
              "      <td>2014-01-01</td>\n",
              "    </tr>\n",
              "    <tr>\n",
              "      <th>2</th>\n",
              "      <td>1</td>\n",
              "      <td>2014-01-01</td>\n",
              "      <td>2014-03-31</td>\n",
              "      <td>516</td>\n",
              "      <td>2014-01-01</td>\n",
              "    </tr>\n",
              "    <tr>\n",
              "      <th>3</th>\n",
              "      <td>1</td>\n",
              "      <td>2014-01-01</td>\n",
              "      <td>2014-04-30</td>\n",
              "      <td>568</td>\n",
              "      <td>2014-01-01</td>\n",
              "    </tr>\n",
              "    <tr>\n",
              "      <th>4</th>\n",
              "      <td>1</td>\n",
              "      <td>2014-01-01</td>\n",
              "      <td>2014-05-31</td>\n",
              "      <td>556</td>\n",
              "      <td>2014-01-01</td>\n",
              "    </tr>\n",
              "  </tbody>\n",
              "</table>\n",
              "</div>"
            ],
            "text/plain": [
              "   dwarf_id  hired_date reported_date  gold_mined hammer_date\n",
              "0         1  2014-01-01    2014-01-31         656  2014-01-01\n",
              "1         1  2014-01-01    2014-02-28         565  2014-01-01\n",
              "2         1  2014-01-01    2014-03-31         516  2014-01-01\n",
              "3         1  2014-01-01    2014-04-30         568  2014-01-01\n",
              "4         1  2014-01-01    2014-05-31         556  2014-01-01"
            ]
          },
          "metadata": {
            "tags": []
          },
          "execution_count": 12
        }
      ]
    },
    {
      "cell_type": "markdown",
      "metadata": {
        "id": "Pu3i0VKigdot"
      },
      "source": [
        "Аналогичным образом создадим сводную таблицу для гномов работников, использующих инструменты старого поколения.<br/>\n",
        "Здесь подсчеты осуществляются проще, так как инструменты старого поколения использовались только в 2014 году и мне не нужно проводить дополнительные операции по сложению столбцов показателей за разные периоды."
      ]
    },
    {
      "cell_type": "code",
      "metadata": {
        "id": "xEjX65KU6e5K",
        "outputId": "9e2c634b-f465-4c64-84ff-1133ba8f9c69",
        "colab": {
          "base_uri": "https://localhost:8080/",
          "height": 235
        }
      },
      "source": [
        "table_two_pivot = pd.pivot_table(table_two, values='gold_mined', index=['dwarf_id'],\n",
        "                    columns=['hammer_date'], aggfunc=np.mean)\n",
        "table_two_pivot['2014-01-01'] = table_two_pivot['2014-01-01'].astype(int)\n",
        "table_two_pivot.head()"
      ],
      "execution_count": 14,
      "outputs": [
        {
          "output_type": "execute_result",
          "data": {
            "text/html": [
              "<div>\n",
              "<style scoped>\n",
              "    .dataframe tbody tr th:only-of-type {\n",
              "        vertical-align: middle;\n",
              "    }\n",
              "\n",
              "    .dataframe tbody tr th {\n",
              "        vertical-align: top;\n",
              "    }\n",
              "\n",
              "    .dataframe thead th {\n",
              "        text-align: right;\n",
              "    }\n",
              "</style>\n",
              "<table border=\"1\" class=\"dataframe\">\n",
              "  <thead>\n",
              "    <tr style=\"text-align: right;\">\n",
              "      <th>hammer_date</th>\n",
              "      <th>2014-01-01</th>\n",
              "    </tr>\n",
              "    <tr>\n",
              "      <th>dwarf_id</th>\n",
              "      <th></th>\n",
              "    </tr>\n",
              "  </thead>\n",
              "  <tbody>\n",
              "    <tr>\n",
              "      <th>1</th>\n",
              "      <td>538</td>\n",
              "    </tr>\n",
              "    <tr>\n",
              "      <th>2</th>\n",
              "      <td>540</td>\n",
              "    </tr>\n",
              "    <tr>\n",
              "      <th>3</th>\n",
              "      <td>535</td>\n",
              "    </tr>\n",
              "    <tr>\n",
              "      <th>4</th>\n",
              "      <td>543</td>\n",
              "    </tr>\n",
              "    <tr>\n",
              "      <th>5</th>\n",
              "      <td>552</td>\n",
              "    </tr>\n",
              "  </tbody>\n",
              "</table>\n",
              "</div>"
            ],
            "text/plain": [
              "hammer_date  2014-01-01\n",
              "dwarf_id               \n",
              "1                   538\n",
              "2                   540\n",
              "3                   535\n",
              "4                   543\n",
              "5                   552"
            ]
          },
          "metadata": {
            "tags": []
          },
          "execution_count": 14
        }
      ]
    },
    {
      "cell_type": "code",
      "metadata": {
        "id": "CWTLUXx9_Ks6",
        "outputId": "be3fb2f9-436a-4f28-8e0f-e799cd90869e",
        "colab": {
          "base_uri": "https://localhost:8080/",
          "height": 68
        }
      },
      "source": [
        "table_two_pivot.mean()"
      ],
      "execution_count": 15,
      "outputs": [
        {
          "output_type": "execute_result",
          "data": {
            "text/plain": [
              "hammer_date\n",
              "2014-01-01    581.418079\n",
              "dtype: float64"
            ]
          },
          "metadata": {
            "tags": []
          },
          "execution_count": 15
        }
      ]
    },
    {
      "cell_type": "markdown",
      "metadata": {
        "id": "czism3C8ihlK"
      },
      "source": [
        "Были получены средние значения добытого золота за месячный период при использовании инструментов старого и нового поколения.<br/>\n",
        "При использовании инструментов старого поколения среднее значение составило - **581.74 единиц золота**.<br/>\n",
        "При использовании инструментов нового поколения среднее зачение составило - **600.51 единиц золота**.<br/>\n",
        "Вывод: использование инструментов нового поколения приводит к улучшению показателей добычи. Опасения генерального директора опровергнуты."
      ]
    },
    {
      "cell_type": "markdown",
      "metadata": {
        "id": "wqtn8qAxzPYS"
      },
      "source": [
        "Используем код ниже для скачивания сводных таблиц в формате  csv, чтобы в дальнейшем поработать с ними в Power BI"
      ]
    },
    {
      "cell_type": "code",
      "metadata": {
        "id": "5tibcir_y05L",
        "outputId": "70ab788a-7f66-4c73-9bbf-4b574a033aa3",
        "colab": {
          "base_uri": "https://localhost:8080/",
          "height": 17
        }
      },
      "source": [
        "table_two_pivot.to_csv('table_two_pivot.csv') \n",
        "files.download('table_two_pivot.csv')\n",
        "table_one_pivot.to_csv('table_one_pivot.csv') \n",
        "files.download('table_one_pivot.csv')"
      ],
      "execution_count": 16,
      "outputs": [
        {
          "output_type": "display_data",
          "data": {
            "application/javascript": [
              "\n",
              "    async function download(id, filename, size) {\n",
              "      if (!google.colab.kernel.accessAllowed) {\n",
              "        return;\n",
              "      }\n",
              "      const div = document.createElement('div');\n",
              "      const label = document.createElement('label');\n",
              "      label.textContent = `Downloading \"${filename}\": `;\n",
              "      div.appendChild(label);\n",
              "      const progress = document.createElement('progress');\n",
              "      progress.max = size;\n",
              "      div.appendChild(progress);\n",
              "      document.body.appendChild(div);\n",
              "\n",
              "      const buffers = [];\n",
              "      let downloaded = 0;\n",
              "\n",
              "      const channel = await google.colab.kernel.comms.open(id);\n",
              "      // Send a message to notify the kernel that we're ready.\n",
              "      channel.send({})\n",
              "\n",
              "      for await (const message of channel.messages) {\n",
              "        // Send a message to notify the kernel that we're ready.\n",
              "        channel.send({})\n",
              "        if (message.buffers) {\n",
              "          for (const buffer of message.buffers) {\n",
              "            buffers.push(buffer);\n",
              "            downloaded += buffer.byteLength;\n",
              "            progress.value = downloaded;\n",
              "          }\n",
              "        }\n",
              "      }\n",
              "      const blob = new Blob(buffers, {type: 'application/binary'});\n",
              "      const a = document.createElement('a');\n",
              "      a.href = window.URL.createObjectURL(blob);\n",
              "      a.download = filename;\n",
              "      div.appendChild(a);\n",
              "      a.click();\n",
              "      div.remove();\n",
              "    }\n",
              "  "
            ],
            "text/plain": [
              "<IPython.core.display.Javascript object>"
            ]
          },
          "metadata": {
            "tags": []
          }
        },
        {
          "output_type": "display_data",
          "data": {
            "application/javascript": [
              "download(\"download_2fe39834-63a2-4469-b828-96b15846bcec\", \"table_two_pivot.csv\", 4160)"
            ],
            "text/plain": [
              "<IPython.core.display.Javascript object>"
            ]
          },
          "metadata": {
            "tags": []
          }
        },
        {
          "output_type": "display_data",
          "data": {
            "application/javascript": [
              "\n",
              "    async function download(id, filename, size) {\n",
              "      if (!google.colab.kernel.accessAllowed) {\n",
              "        return;\n",
              "      }\n",
              "      const div = document.createElement('div');\n",
              "      const label = document.createElement('label');\n",
              "      label.textContent = `Downloading \"${filename}\": `;\n",
              "      div.appendChild(label);\n",
              "      const progress = document.createElement('progress');\n",
              "      progress.max = size;\n",
              "      div.appendChild(progress);\n",
              "      document.body.appendChild(div);\n",
              "\n",
              "      const buffers = [];\n",
              "      let downloaded = 0;\n",
              "\n",
              "      const channel = await google.colab.kernel.comms.open(id);\n",
              "      // Send a message to notify the kernel that we're ready.\n",
              "      channel.send({})\n",
              "\n",
              "      for await (const message of channel.messages) {\n",
              "        // Send a message to notify the kernel that we're ready.\n",
              "        channel.send({})\n",
              "        if (message.buffers) {\n",
              "          for (const buffer of message.buffers) {\n",
              "            buffers.push(buffer);\n",
              "            downloaded += buffer.byteLength;\n",
              "            progress.value = downloaded;\n",
              "          }\n",
              "        }\n",
              "      }\n",
              "      const blob = new Blob(buffers, {type: 'application/binary'});\n",
              "      const a = document.createElement('a');\n",
              "      a.href = window.URL.createObjectURL(blob);\n",
              "      a.download = filename;\n",
              "      div.appendChild(a);\n",
              "      a.click();\n",
              "      div.remove();\n",
              "    }\n",
              "  "
            ],
            "text/plain": [
              "<IPython.core.display.Javascript object>"
            ]
          },
          "metadata": {
            "tags": []
          }
        },
        {
          "output_type": "display_data",
          "data": {
            "application/javascript": [
              "download(\"download_db018128-2490-4b1b-9d1d-4dd77fec2a7f\", \"table_one_pivot.csv\", 22999)"
            ],
            "text/plain": [
              "<IPython.core.display.Javascript object>"
            ]
          },
          "metadata": {
            "tags": []
          }
        }
      ]
    }
  ]
}